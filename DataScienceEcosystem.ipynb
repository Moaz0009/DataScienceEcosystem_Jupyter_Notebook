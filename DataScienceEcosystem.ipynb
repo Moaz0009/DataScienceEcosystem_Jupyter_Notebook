{
 "cells": [
  {
   "attachments": {},
   "cell_type": "markdown",
   "id": "b54f9650",
   "metadata": {},
   "source": [
    "# Data Science Tools and Ecosystem"
   ]
  },
  {
   "cell_type": "markdown",
   "id": "d8f3e77c",
   "metadata": {},
   "source": [
    "## In this notebook, Data Science Tools and Ecosystems are Summerized"
   ]
  },
  {
   "cell_type": "markdown",
   "id": "ef56f5d3",
   "metadata": {},
   "source": [
    "## **Objectives**\n",
    "- List popular languages for Data Science\n",
    "- commonly used libraries used by Data Scientists \n",
    "- Data Science Tools"
   ]
  },
  {
   "cell_type": "markdown",
   "id": "8faf4460",
   "metadata": {},
   "source": [
    "## ِAuthor\n",
    "Moaz Abdeljalil Salah"
   ]
  },
  {
   "cell_type": "markdown",
   "id": "1b93d19b",
   "metadata": {},
   "source": [
    "### some of  the popular languages that Data Scientists use are :\n",
    "1. Python\n",
    "2. R\n",
    "3. SQL"
   ]
  },
  {
   "cell_type": "markdown",
   "id": "bc6a1a86",
   "metadata": {},
   "source": [
    "### some of the commonly used libraries used by Data Scientists Include:\n",
    "1. Numpy\n",
    "2. TensorFlow\n",
    "3. Pandas"
   ]
  },
  {
   "cell_type": "markdown",
   "id": "669a09ec",
   "metadata": {},
   "source": [
    "|**Data Science Tools**|\n",
    "|------------------|\n",
    "|R studio |\n",
    "|Tensor Flow|\n",
    "|Apache Hadoop|"
   ]
  },
  {
   "cell_type": "markdown",
   "id": "18902dc2",
   "metadata": {},
   "source": [
    "### Below are  a few examples of evaluating arithmetic expressions in python"
   ]
  },
  {
   "cell_type": "code",
   "execution_count": 1,
   "id": "3b2400cc",
   "metadata": {},
   "outputs": [
    {
     "data": {
      "text/plain": [
       "17"
      ]
     },
     "execution_count": 1,
     "metadata": {},
     "output_type": "execute_result"
    }
   ],
   "source": [
    "#This a simple arithmetic expression to mutiply then add integers\n",
    "(3*4)+5"
   ]
  },
  {
   "cell_type": "code",
   "execution_count": 2,
   "id": "a0e360e3",
   "metadata": {},
   "outputs": [
    {
     "data": {
      "text/plain": [
       "3.3333333333333335"
      ]
     },
     "execution_count": 2,
     "metadata": {},
     "output_type": "execute_result"
    }
   ],
   "source": [
    "#This will convert 200 minutes to hours by diving by 60\n",
    "200/60"
   ]
  },
  {
   "cell_type": "code",
   "execution_count": null,
   "id": "33c872ad",
   "metadata": {},
   "outputs": [],
   "source": []
  }
 ],
 "metadata": {
  "kernelspec": {
   "display_name": "Python 3 (ipykernel)",
   "language": "python",
   "name": "python3"
  },
  "language_info": {
   "codemirror_mode": {
    "name": "ipython",
    "version": 3
   },
   "file_extension": ".py",
   "mimetype": "text/x-python",
   "name": "python",
   "nbconvert_exporter": "python",
   "pygments_lexer": "ipython3",
   "version": "3.11.4"
  }
 },
 "nbformat": 4,
 "nbformat_minor": 5
}
